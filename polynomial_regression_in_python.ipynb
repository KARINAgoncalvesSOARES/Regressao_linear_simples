{
  "nbformat": 4,
  "nbformat_minor": 0,
  "metadata": {
    "colab": {
      "provenance": [],
      "collapsed_sections": [],
      "authorship_tag": "ABX9TyPLYFa2O4FMl/5GhsCaZBfO",
      "include_colab_link": true
    },
    "kernelspec": {
      "name": "python3",
      "display_name": "Python 3"
    },
    "language_info": {
      "name": "python"
    }
  },
  "cells": [
    {
      "cell_type": "markdown",
      "metadata": {
        "id": "view-in-github",
        "colab_type": "text"
      },
      "source": [
        "<a href=\"https://colab.research.google.com/github/KARINAgoncalvesSOARES/Regressao_linear_simples/blob/main/polynomial_regression_in_python.ipynb\" target=\"_parent\"><img src=\"https://colab.research.google.com/assets/colab-badge.svg\" alt=\"Open In Colab\"/></a>"
      ]
    },
    {
      "cell_type": "markdown",
      "source": [
        "# <h2 align=\"center\"> Regressão Polinomial No Python \n",
        "\n",
        "Data Scientist Jr.: Karina Gonçalves Soares"
      ],
      "metadata": {
        "id": "EhumniQk6X-0"
      }
    },
    {
      "cell_type": "code",
      "execution_count": null,
      "metadata": {
        "id": "FpaHbjvyi6Ae"
      },
      "outputs": [],
      "source": [
        "import numpy as np\n",
        "import matplotlib.pyplot as plt\n",
        "from sklearn.linear_model import LinearRegression\n",
        "from sklearn.preprocessing import PolynomialFeatures"
      ]
    },
    {
      "cell_type": "code",
      "source": [
        "x = 4 * np.random.rand(100, 1) - 2\n",
        "y = 4 + 2 *  x + 5 * x ** 2 + 12 * x ** 3 + 2 * x ** 4 + 2 + 20 * np.random.randn(100, 1)\n",
        "\n",
        "poly_features = PolynomialFeatures(degree=18, include_bias=False)\n",
        "x_poly = poly_features.fit_transform(x)\n",
        "\n",
        "\n",
        "reg = LinearRegression()\n",
        "reg.fit(x_poly, y)\n",
        "\n",
        "\n",
        "x_vals = np.linspace(-2, 2, 100).reshape(-1, 1)\n",
        "x_vals_poly = poly_features.transform(x_vals)\n",
        "\n",
        "\n",
        "y_vals = reg.predict(x_vals_poly)\n",
        "\n",
        "\n",
        "plt.scatter(x, y)\n",
        "plt.plot(x_vals, y_vals, color= 'r')\n",
        "plt.show()"
      ],
      "metadata": {
        "colab": {
          "base_uri": "https://localhost:8080/",
          "height": 265
        },
        "id": "lsEtgdtYj6vv",
        "outputId": "00cd49d4-d586-476c-e8af-02974b512456"
      },
      "execution_count": null,
      "outputs": [
        {
          "output_type": "display_data",
          "data": {
            "text/plain": [
              "<Figure size 432x288 with 1 Axes>"
            ],
            "image/png": "[encoded data removed]"
          },
          "metadata": {
            "needs_background": "light"
          }
        }
      ]
    },
    {
      "cell_type": "code",
      "source": [],
      "metadata": {
        "id": "TqocVWoHladG"
      },
      "execution_count": null,
      "outputs": []
    }
  ]
}